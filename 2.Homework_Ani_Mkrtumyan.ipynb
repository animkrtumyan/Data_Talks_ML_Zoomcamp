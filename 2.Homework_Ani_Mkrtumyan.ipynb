{
 "cells": [
  {
   "cell_type": "markdown",
   "id": "7113b31a",
   "metadata": {},
   "source": [
    "# import libraries"
   ]
  },
  {
   "cell_type": "code",
   "execution_count": 1,
   "id": "d12970c2",
   "metadata": {},
   "outputs": [],
   "source": [
    "import pandas as pd\n",
    "import numpy as np\n",
    "import matplotlib.pyplot as plt\n",
    "import seaborn as sns\n",
    "import random\n",
    "\n",
    "%matplotlib inline\n"
   ]
  },
  {
   "cell_type": "code",
   "execution_count": 2,
   "id": "e0ce50b0",
   "metadata": {},
   "outputs": [],
   "source": [
    "# import data\n",
    "data  =  pd.read_csv(\"datasets_master_housing_hw2.csv\")"
   ]
  },
  {
   "cell_type": "code",
   "execution_count": 3,
   "id": "f561aca3",
   "metadata": {},
   "outputs": [
    {
     "data": {
      "text/html": [
       "<div>\n",
       "<style scoped>\n",
       "    .dataframe tbody tr th:only-of-type {\n",
       "        vertical-align: middle;\n",
       "    }\n",
       "\n",
       "    .dataframe tbody tr th {\n",
       "        vertical-align: top;\n",
       "    }\n",
       "\n",
       "    .dataframe thead th {\n",
       "        text-align: right;\n",
       "    }\n",
       "</style>\n",
       "<table border=\"1\" class=\"dataframe\">\n",
       "  <thead>\n",
       "    <tr style=\"text-align: right;\">\n",
       "      <th></th>\n",
       "      <th>longitude</th>\n",
       "      <th>latitude</th>\n",
       "      <th>housing_median_age</th>\n",
       "      <th>total_rooms</th>\n",
       "      <th>total_bedrooms</th>\n",
       "      <th>population</th>\n",
       "      <th>households</th>\n",
       "      <th>median_income</th>\n",
       "      <th>median_house_value</th>\n",
       "      <th>ocean_proximity</th>\n",
       "    </tr>\n",
       "  </thead>\n",
       "  <tbody>\n",
       "    <tr>\n",
       "      <th>0</th>\n",
       "      <td>-122.23</td>\n",
       "      <td>37.88</td>\n",
       "      <td>41.0</td>\n",
       "      <td>880.0</td>\n",
       "      <td>129.0</td>\n",
       "      <td>322.0</td>\n",
       "      <td>126.0</td>\n",
       "      <td>8.3252</td>\n",
       "      <td>452600.0</td>\n",
       "      <td>NEAR BAY</td>\n",
       "    </tr>\n",
       "    <tr>\n",
       "      <th>1</th>\n",
       "      <td>-122.22</td>\n",
       "      <td>37.86</td>\n",
       "      <td>21.0</td>\n",
       "      <td>7099.0</td>\n",
       "      <td>1106.0</td>\n",
       "      <td>2401.0</td>\n",
       "      <td>1138.0</td>\n",
       "      <td>8.3014</td>\n",
       "      <td>358500.0</td>\n",
       "      <td>NEAR BAY</td>\n",
       "    </tr>\n",
       "    <tr>\n",
       "      <th>2</th>\n",
       "      <td>-122.24</td>\n",
       "      <td>37.85</td>\n",
       "      <td>52.0</td>\n",
       "      <td>1467.0</td>\n",
       "      <td>190.0</td>\n",
       "      <td>496.0</td>\n",
       "      <td>177.0</td>\n",
       "      <td>7.2574</td>\n",
       "      <td>352100.0</td>\n",
       "      <td>NEAR BAY</td>\n",
       "    </tr>\n",
       "    <tr>\n",
       "      <th>3</th>\n",
       "      <td>-122.25</td>\n",
       "      <td>37.85</td>\n",
       "      <td>52.0</td>\n",
       "      <td>1274.0</td>\n",
       "      <td>235.0</td>\n",
       "      <td>558.0</td>\n",
       "      <td>219.0</td>\n",
       "      <td>5.6431</td>\n",
       "      <td>341300.0</td>\n",
       "      <td>NEAR BAY</td>\n",
       "    </tr>\n",
       "    <tr>\n",
       "      <th>4</th>\n",
       "      <td>-122.25</td>\n",
       "      <td>37.85</td>\n",
       "      <td>52.0</td>\n",
       "      <td>1627.0</td>\n",
       "      <td>280.0</td>\n",
       "      <td>565.0</td>\n",
       "      <td>259.0</td>\n",
       "      <td>3.8462</td>\n",
       "      <td>342200.0</td>\n",
       "      <td>NEAR BAY</td>\n",
       "    </tr>\n",
       "  </tbody>\n",
       "</table>\n",
       "</div>"
      ],
      "text/plain": [
       "   longitude  latitude  housing_median_age  total_rooms  total_bedrooms  \\\n",
       "0    -122.23     37.88                41.0        880.0           129.0   \n",
       "1    -122.22     37.86                21.0       7099.0          1106.0   \n",
       "2    -122.24     37.85                52.0       1467.0           190.0   \n",
       "3    -122.25     37.85                52.0       1274.0           235.0   \n",
       "4    -122.25     37.85                52.0       1627.0           280.0   \n",
       "\n",
       "   population  households  median_income  median_house_value ocean_proximity  \n",
       "0       322.0       126.0         8.3252            452600.0        NEAR BAY  \n",
       "1      2401.0      1138.0         8.3014            358500.0        NEAR BAY  \n",
       "2       496.0       177.0         7.2574            352100.0        NEAR BAY  \n",
       "3       558.0       219.0         5.6431            341300.0        NEAR BAY  \n",
       "4       565.0       259.0         3.8462            342200.0        NEAR BAY  "
      ]
     },
     "execution_count": 3,
     "metadata": {},
     "output_type": "execute_result"
    }
   ],
   "source": [
    "data.head()"
   ]
  },
  {
   "cell_type": "code",
   "execution_count": 4,
   "id": "f44c9e31",
   "metadata": {},
   "outputs": [
    {
     "data": {
      "text/plain": [
       "0        452600.0\n",
       "1        358500.0\n",
       "2        352100.0\n",
       "3        341300.0\n",
       "4        342200.0\n",
       "           ...   \n",
       "20635     78100.0\n",
       "20636     77100.0\n",
       "20637     92300.0\n",
       "20638     84700.0\n",
       "20639     89400.0\n",
       "Name: median_house_value, Length: 20640, dtype: float64"
      ]
     },
     "execution_count": 4,
     "metadata": {},
     "output_type": "execute_result"
    }
   ],
   "source": [
    "data['median_house_value']"
   ]
  },
  {
   "cell_type": "code",
   "execution_count": 5,
   "id": "5267f71a",
   "metadata": {},
   "outputs": [
    {
     "data": {
      "text/plain": [
       "longitude             float64\n",
       "latitude              float64\n",
       "housing_median_age    float64\n",
       "total_rooms           float64\n",
       "total_bedrooms        float64\n",
       "population            float64\n",
       "households            float64\n",
       "median_income         float64\n",
       "median_house_value    float64\n",
       "ocean_proximity        object\n",
       "dtype: object"
      ]
     },
     "execution_count": 5,
     "metadata": {},
     "output_type": "execute_result"
    }
   ],
   "source": [
    "data.dtypes"
   ]
  },
  {
   "cell_type": "code",
   "execution_count": 6,
   "id": "865edbed",
   "metadata": {},
   "outputs": [],
   "source": [
    "data.ocean_proximity = data.ocean_proximity.str.lower().str.replace(\" \" , \"_\")"
   ]
  },
  {
   "cell_type": "markdown",
   "id": "aaa340cc",
   "metadata": {},
   "source": [
    "# Explanatory Data Analysis"
   ]
  },
  {
   "cell_type": "code",
   "execution_count": 7,
   "id": "7eb024f2",
   "metadata": {},
   "outputs": [
    {
     "data": {
      "text/plain": [
       "array(['near_bay', '<1h_ocean', 'inland', 'near_ocean', 'island'],\n",
       "      dtype=object)"
      ]
     },
     "execution_count": 7,
     "metadata": {},
     "output_type": "execute_result"
    }
   ],
   "source": [
    "data.ocean_proximity.unique()"
   ]
  },
  {
   "cell_type": "code",
   "execution_count": 8,
   "id": "57faf75f",
   "metadata": {},
   "outputs": [
    {
     "data": {
      "text/plain": [
       "<AxesSubplot:xlabel='median_house_value', ylabel='Count'>"
      ]
     },
     "execution_count": 8,
     "metadata": {},
     "output_type": "execute_result"
    },
    {
     "data": {
      "image/png": "[encoded data removed]",
      "text/plain": [
       "<Figure size 432x288 with 1 Axes>"
      ]
     },
     "metadata": {
      "needs_background": "light"
     },
     "output_type": "display_data"
    }
   ],
   "source": [
    "sns.histplot(data.median_house_value, bins  = 30)"
   ]
  },
  {
   "cell_type": "code",
   "execution_count": 9,
   "id": "cb83d7ad",
   "metadata": {},
   "outputs": [],
   "source": [
    "log_hous_value  = np.log1p(data.median_house_value)"
   ]
  },
  {
   "cell_type": "code",
   "execution_count": 10,
   "id": "c32f1ddb",
   "metadata": {},
   "outputs": [
    {
     "data": {
      "text/plain": [
       "<AxesSubplot:xlabel='median_house_value', ylabel='Count'>"
      ]
     },
     "execution_count": 10,
     "metadata": {},
     "output_type": "execute_result"
    },
    {
     "data": {
      "image/png": "[encoded data removed]",
      "text/plain": [
       "<Figure size 432x288 with 1 Axes>"
      ]
     },
     "metadata": {
      "needs_background": "light"
     },
     "output_type": "display_data"
    }
   ],
   "source": [
    "sns.histplot(log_hous_value, bins  = 50)"
   ]
  },
  {
   "cell_type": "code",
   "execution_count": 11,
   "id": "55fcce2c",
   "metadata": {},
   "outputs": [],
   "source": [
    "# histogram shows that median_house_value variable has a right-skewed distribution."
   ]
  },
  {
   "cell_type": "code",
   "execution_count": 12,
   "id": "7f576774",
   "metadata": {},
   "outputs": [
    {
     "data": {
      "text/plain": [
       "array(['near_bay', '<1h_ocean', 'inland', 'near_ocean', 'island'],\n",
       "      dtype=object)"
      ]
     },
     "execution_count": 12,
     "metadata": {},
     "output_type": "execute_result"
    }
   ],
   "source": [
    "#keep only the records where ocean_proximity is either '<1H OCEAN' or 'INLAND'\n",
    "data.ocean_proximity.unique()"
   ]
  },
  {
   "cell_type": "code",
   "execution_count": 13,
   "id": "869660e7",
   "metadata": {},
   "outputs": [],
   "source": [
    "prox = ['inland', '<1h_ocean']"
   ]
  },
  {
   "cell_type": "code",
   "execution_count": 14,
   "id": "a5324075",
   "metadata": {},
   "outputs": [
    {
     "data": {
      "text/plain": [
       "array(['<1h_ocean', 'inland'], dtype=object)"
      ]
     },
     "execution_count": 14,
     "metadata": {},
     "output_type": "execute_result"
    }
   ],
   "source": [
    "df = data[data.ocean_proximity.isin( prox ) ]\n",
    "df.ocean_proximity.unique()"
   ]
  },
  {
   "cell_type": "code",
   "execution_count": 15,
   "id": "7a67439c",
   "metadata": {},
   "outputs": [
    {
     "data": {
      "text/plain": [
       "Index(['longitude', 'latitude', 'housing_median_age', 'total_rooms',\n",
       "       'total_bedrooms', 'population', 'households', 'median_income',\n",
       "       'median_house_value', 'ocean_proximity'],\n",
       "      dtype='object')"
      ]
     },
     "execution_count": 15,
     "metadata": {},
     "output_type": "execute_result"
    }
   ],
   "source": [
    "df_cols = df.columns\n",
    "#len(df_cols)\n",
    "df_cols "
   ]
  },
  {
   "cell_type": "code",
   "execution_count": 16,
   "id": "f0f51506",
   "metadata": {},
   "outputs": [
    {
     "data": {
      "text/plain": [
       "9"
      ]
     },
     "execution_count": 16,
     "metadata": {},
     "output_type": "execute_result"
    }
   ],
   "source": [
    "col = ['latitude',\n",
    "'longitude',\n",
    "'housing_median_age',\n",
    "'total_rooms',\n",
    "'total_bedrooms',\n",
    "'population',\n",
    "'households',\n",
    "'median_income',\n",
    "'median_house_value' ]\n",
    "len(col)"
   ]
  },
  {
   "cell_type": "code",
   "execution_count": 17,
   "id": "a58f47ae",
   "metadata": {},
   "outputs": [],
   "source": [
    "set_1 = set(df_cols )\n",
    "set_2 = set (col)"
   ]
  },
  {
   "cell_type": "code",
   "execution_count": 18,
   "id": "acc535b6",
   "metadata": {},
   "outputs": [],
   "source": [
    "unique_elements = set_1.difference(set_2)"
   ]
  },
  {
   "cell_type": "code",
   "execution_count": 19,
   "id": "ac1e91b5",
   "metadata": {},
   "outputs": [
    {
     "name": "stdout",
     "output_type": "stream",
     "text": [
      "{'ocean_proximity'}\n"
     ]
    },
    {
     "data": {
      "text/plain": [
       "Index(['longitude', 'latitude', 'housing_median_age', 'total_rooms',\n",
       "       'total_bedrooms', 'population', 'households', 'median_income',\n",
       "       'median_house_value', 'ocean_proximity'],\n",
       "      dtype='object')"
      ]
     },
     "execution_count": 19,
     "metadata": {},
     "output_type": "execute_result"
    }
   ],
   "source": [
    "print(unique_elements )\n",
    "df.columns\n"
   ]
  },
  {
   "cell_type": "code",
   "execution_count": 20,
   "id": "a2ce28c0",
   "metadata": {},
   "outputs": [],
   "source": [
    "df = df.drop(columns= ['ocean_proximity'])\n",
    " "
   ]
  },
  {
   "cell_type": "code",
   "execution_count": 21,
   "id": "fdad63f8",
   "metadata": {},
   "outputs": [
    {
     "data": {
      "text/plain": [
       "Index(['longitude', 'latitude', 'housing_median_age', 'total_rooms',\n",
       "       'total_bedrooms', 'population', 'households', 'median_income',\n",
       "       'median_house_value'],\n",
       "      dtype='object')"
      ]
     },
     "execution_count": 21,
     "metadata": {},
     "output_type": "execute_result"
    }
   ],
   "source": [
    "df.columns"
   ]
  },
  {
   "cell_type": "code",
   "execution_count": 22,
   "id": "e0842ed0",
   "metadata": {},
   "outputs": [
    {
     "data": {
      "text/plain": [
       "longitude               0\n",
       "latitude                0\n",
       "housing_median_age      0\n",
       "total_rooms             0\n",
       "total_bedrooms        157\n",
       "population              0\n",
       "households              0\n",
       "median_income           0\n",
       "median_house_value      0\n",
       "dtype: int64"
      ]
     },
     "execution_count": 22,
     "metadata": {},
     "output_type": "execute_result"
    }
   ],
   "source": [
    "missing =  df.isnull().sum()\n",
    "missing\n",
    "# total_bedrooms "
   ]
  },
  {
   "cell_type": "code",
   "execution_count": 23,
   "id": "69715efb",
   "metadata": {},
   "outputs": [
    {
     "data": {
      "text/plain": [
       "1195.0"
      ]
     },
     "execution_count": 23,
     "metadata": {},
     "output_type": "execute_result"
    }
   ],
   "source": [
    "# What's the median (50% percentile) for variable 'population'?\n",
    "df.population.median()"
   ]
  },
  {
   "cell_type": "markdown",
   "id": "f328911e",
   "metadata": {},
   "source": [
    "# train-validation- test splitting"
   ]
  },
  {
   "cell_type": "code",
   "execution_count": 24,
   "id": "d625718f",
   "metadata": {},
   "outputs": [],
   "source": [
    "n =  len (df)\n",
    "n_val =  int(n * 0.2)\n",
    "n_test  = int(n * 0.2)\n",
    "n_train =  n - n_val - n_test"
   ]
  },
  {
   "cell_type": "code",
   "execution_count": 25,
   "id": "d1b93eb8",
   "metadata": {},
   "outputs": [
    {
     "name": "stdout",
     "output_type": "stream",
     "text": [
      "n:  15687 n_val:  3137 n_test:  3137  n_train:  9413\n"
     ]
    }
   ],
   "source": [
    "print(\"n: \", n, \"n_val: \", n_val, \"n_test: \", n_test, \" n_train: \", n_train)"
   ]
  },
  {
   "cell_type": "code",
   "execution_count": 26,
   "id": "f9ee11a9",
   "metadata": {},
   "outputs": [
    {
     "data": {
      "text/plain": [
       "(3137, 3137, 9413)"
      ]
     },
     "execution_count": 26,
     "metadata": {},
     "output_type": "execute_result"
    }
   ],
   "source": [
    "n_val, n_test, n_train"
   ]
  },
  {
   "cell_type": "code",
   "execution_count": 27,
   "id": "7fea7e3c",
   "metadata": {},
   "outputs": [],
   "source": [
    "index  = np.arange(n)"
   ]
  },
  {
   "cell_type": "code",
   "execution_count": 28,
   "id": "b1337239",
   "metadata": {},
   "outputs": [],
   "source": [
    "np.random.seed(42)\n",
    "np.random.shuffle(index)"
   ]
  },
  {
   "cell_type": "code",
   "execution_count": 29,
   "id": "7551aafb",
   "metadata": {},
   "outputs": [],
   "source": [
    "df_train = df.iloc[index[n_train: ] ]\n",
    "df_val = df.iloc[index[n_train:n_train + n_val] ]\n",
    "df_test =  df.iloc[index[n_train + n_val:] ]"
   ]
  },
  {
   "cell_type": "code",
   "execution_count": 30,
   "id": "b00242b4",
   "metadata": {},
   "outputs": [
    {
     "data": {
      "text/html": [
       "<div>\n",
       "<style scoped>\n",
       "    .dataframe tbody tr th:only-of-type {\n",
       "        vertical-align: middle;\n",
       "    }\n",
       "\n",
       "    .dataframe tbody tr th {\n",
       "        vertical-align: top;\n",
       "    }\n",
       "\n",
       "    .dataframe thead th {\n",
       "        text-align: right;\n",
       "    }\n",
       "</style>\n",
       "<table border=\"1\" class=\"dataframe\">\n",
       "  <thead>\n",
       "    <tr style=\"text-align: right;\">\n",
       "      <th></th>\n",
       "      <th>longitude</th>\n",
       "      <th>latitude</th>\n",
       "      <th>housing_median_age</th>\n",
       "      <th>total_rooms</th>\n",
       "      <th>total_bedrooms</th>\n",
       "      <th>population</th>\n",
       "      <th>households</th>\n",
       "      <th>median_income</th>\n",
       "      <th>median_house_value</th>\n",
       "    </tr>\n",
       "  </thead>\n",
       "  <tbody>\n",
       "    <tr>\n",
       "      <th>9235</th>\n",
       "      <td>-120.09</td>\n",
       "      <td>37.02</td>\n",
       "      <td>9.0</td>\n",
       "      <td>1608.0</td>\n",
       "      <td>297.0</td>\n",
       "      <td>1057.0</td>\n",
       "      <td>295.0</td>\n",
       "      <td>3.7143</td>\n",
       "      <td>81600.0</td>\n",
       "    </tr>\n",
       "    <tr>\n",
       "      <th>11104</th>\n",
       "      <td>-117.88</td>\n",
       "      <td>33.84</td>\n",
       "      <td>34.0</td>\n",
       "      <td>1410.0</td>\n",
       "      <td>214.0</td>\n",
       "      <td>837.0</td>\n",
       "      <td>240.0</td>\n",
       "      <td>6.1168</td>\n",
       "      <td>213900.0</td>\n",
       "    </tr>\n",
       "    <tr>\n",
       "      <th>7428</th>\n",
       "      <td>-118.21</td>\n",
       "      <td>33.95</td>\n",
       "      <td>32.0</td>\n",
       "      <td>1116.0</td>\n",
       "      <td>328.0</td>\n",
       "      <td>1265.0</td>\n",
       "      <td>302.0</td>\n",
       "      <td>2.2950</td>\n",
       "      <td>155200.0</td>\n",
       "    </tr>\n",
       "    <tr>\n",
       "      <th>19928</th>\n",
       "      <td>-119.32</td>\n",
       "      <td>36.32</td>\n",
       "      <td>29.0</td>\n",
       "      <td>2409.0</td>\n",
       "      <td>436.0</td>\n",
       "      <td>1142.0</td>\n",
       "      <td>440.0</td>\n",
       "      <td>3.6895</td>\n",
       "      <td>87700.0</td>\n",
       "    </tr>\n",
       "    <tr>\n",
       "      <th>15534</th>\n",
       "      <td>-117.11</td>\n",
       "      <td>33.14</td>\n",
       "      <td>10.0</td>\n",
       "      <td>3208.0</td>\n",
       "      <td>636.0</td>\n",
       "      <td>1395.0</td>\n",
       "      <td>582.0</td>\n",
       "      <td>3.4455</td>\n",
       "      <td>190500.0</td>\n",
       "    </tr>\n",
       "  </tbody>\n",
       "</table>\n",
       "</div>"
      ],
      "text/plain": [
       "       longitude  latitude  housing_median_age  total_rooms  total_bedrooms  \\\n",
       "9235     -120.09     37.02                 9.0       1608.0           297.0   \n",
       "11104    -117.88     33.84                34.0       1410.0           214.0   \n",
       "7428     -118.21     33.95                32.0       1116.0           328.0   \n",
       "19928    -119.32     36.32                29.0       2409.0           436.0   \n",
       "15534    -117.11     33.14                10.0       3208.0           636.0   \n",
       "\n",
       "       population  households  median_income  median_house_value  \n",
       "9235       1057.0       295.0         3.7143             81600.0  \n",
       "11104       837.0       240.0         6.1168            213900.0  \n",
       "7428       1265.0       302.0         2.2950            155200.0  \n",
       "19928      1142.0       440.0         3.6895             87700.0  \n",
       "15534      1395.0       582.0         3.4455            190500.0  "
      ]
     },
     "execution_count": 30,
     "metadata": {},
     "output_type": "execute_result"
    }
   ],
   "source": [
    "df_train.head()"
   ]
  },
  {
   "cell_type": "code",
   "execution_count": 31,
   "id": "a65201e2",
   "metadata": {},
   "outputs": [
    {
     "data": {
      "text/plain": [
       "(6274, 3137, 3137)"
      ]
     },
     "execution_count": 31,
     "metadata": {},
     "output_type": "execute_result"
    }
   ],
   "source": [
    "len(df_train), len(df_val), len(df_test)"
   ]
  },
  {
   "cell_type": "code",
   "execution_count": 32,
   "id": "2ad3c5d1",
   "metadata": {},
   "outputs": [],
   "source": [
    "df_train = df_train.reset_index(drop =  True)\n",
    "df_val = df_val.reset_index(drop =  True)\n",
    "df_test = df_test.reset_index(drop =  True)"
   ]
  },
  {
   "cell_type": "code",
   "execution_count": 33,
   "id": "dfbe6716",
   "metadata": {},
   "outputs": [
    {
     "data": {
      "text/html": [
       "<div>\n",
       "<style scoped>\n",
       "    .dataframe tbody tr th:only-of-type {\n",
       "        vertical-align: middle;\n",
       "    }\n",
       "\n",
       "    .dataframe tbody tr th {\n",
       "        vertical-align: top;\n",
       "    }\n",
       "\n",
       "    .dataframe thead th {\n",
       "        text-align: right;\n",
       "    }\n",
       "</style>\n",
       "<table border=\"1\" class=\"dataframe\">\n",
       "  <thead>\n",
       "    <tr style=\"text-align: right;\">\n",
       "      <th></th>\n",
       "      <th>longitude</th>\n",
       "      <th>latitude</th>\n",
       "      <th>housing_median_age</th>\n",
       "      <th>total_rooms</th>\n",
       "      <th>total_bedrooms</th>\n",
       "      <th>population</th>\n",
       "      <th>households</th>\n",
       "      <th>median_income</th>\n",
       "      <th>median_house_value</th>\n",
       "    </tr>\n",
       "  </thead>\n",
       "  <tbody>\n",
       "    <tr>\n",
       "      <th>0</th>\n",
       "      <td>-120.09</td>\n",
       "      <td>37.02</td>\n",
       "      <td>9.0</td>\n",
       "      <td>1608.0</td>\n",
       "      <td>297.0</td>\n",
       "      <td>1057.0</td>\n",
       "      <td>295.0</td>\n",
       "      <td>3.7143</td>\n",
       "      <td>81600.0</td>\n",
       "    </tr>\n",
       "    <tr>\n",
       "      <th>1</th>\n",
       "      <td>-117.88</td>\n",
       "      <td>33.84</td>\n",
       "      <td>34.0</td>\n",
       "      <td>1410.0</td>\n",
       "      <td>214.0</td>\n",
       "      <td>837.0</td>\n",
       "      <td>240.0</td>\n",
       "      <td>6.1168</td>\n",
       "      <td>213900.0</td>\n",
       "    </tr>\n",
       "    <tr>\n",
       "      <th>2</th>\n",
       "      <td>-118.21</td>\n",
       "      <td>33.95</td>\n",
       "      <td>32.0</td>\n",
       "      <td>1116.0</td>\n",
       "      <td>328.0</td>\n",
       "      <td>1265.0</td>\n",
       "      <td>302.0</td>\n",
       "      <td>2.2950</td>\n",
       "      <td>155200.0</td>\n",
       "    </tr>\n",
       "    <tr>\n",
       "      <th>3</th>\n",
       "      <td>-119.32</td>\n",
       "      <td>36.32</td>\n",
       "      <td>29.0</td>\n",
       "      <td>2409.0</td>\n",
       "      <td>436.0</td>\n",
       "      <td>1142.0</td>\n",
       "      <td>440.0</td>\n",
       "      <td>3.6895</td>\n",
       "      <td>87700.0</td>\n",
       "    </tr>\n",
       "    <tr>\n",
       "      <th>4</th>\n",
       "      <td>-117.11</td>\n",
       "      <td>33.14</td>\n",
       "      <td>10.0</td>\n",
       "      <td>3208.0</td>\n",
       "      <td>636.0</td>\n",
       "      <td>1395.0</td>\n",
       "      <td>582.0</td>\n",
       "      <td>3.4455</td>\n",
       "      <td>190500.0</td>\n",
       "    </tr>\n",
       "    <tr>\n",
       "      <th>...</th>\n",
       "      <td>...</td>\n",
       "      <td>...</td>\n",
       "      <td>...</td>\n",
       "      <td>...</td>\n",
       "      <td>...</td>\n",
       "      <td>...</td>\n",
       "      <td>...</td>\n",
       "      <td>...</td>\n",
       "      <td>...</td>\n",
       "    </tr>\n",
       "    <tr>\n",
       "      <th>3132</th>\n",
       "      <td>-119.02</td>\n",
       "      <td>36.07</td>\n",
       "      <td>29.0</td>\n",
       "      <td>2610.0</td>\n",
       "      <td>597.0</td>\n",
       "      <td>1659.0</td>\n",
       "      <td>571.0</td>\n",
       "      <td>1.5911</td>\n",
       "      <td>60800.0</td>\n",
       "    </tr>\n",
       "    <tr>\n",
       "      <th>3133</th>\n",
       "      <td>-122.10</td>\n",
       "      <td>40.03</td>\n",
       "      <td>25.0</td>\n",
       "      <td>2516.0</td>\n",
       "      <td>NaN</td>\n",
       "      <td>1266.0</td>\n",
       "      <td>494.0</td>\n",
       "      <td>1.7566</td>\n",
       "      <td>58400.0</td>\n",
       "    </tr>\n",
       "    <tr>\n",
       "      <th>3134</th>\n",
       "      <td>-118.04</td>\n",
       "      <td>34.00</td>\n",
       "      <td>30.0</td>\n",
       "      <td>5308.0</td>\n",
       "      <td>854.0</td>\n",
       "      <td>2114.0</td>\n",
       "      <td>838.0</td>\n",
       "      <td>5.1985</td>\n",
       "      <td>279200.0</td>\n",
       "    </tr>\n",
       "    <tr>\n",
       "      <th>3135</th>\n",
       "      <td>-118.15</td>\n",
       "      <td>34.10</td>\n",
       "      <td>36.0</td>\n",
       "      <td>3514.0</td>\n",
       "      <td>818.0</td>\n",
       "      <td>2277.0</td>\n",
       "      <td>828.0</td>\n",
       "      <td>3.1211</td>\n",
       "      <td>229300.0</td>\n",
       "    </tr>\n",
       "    <tr>\n",
       "      <th>3136</th>\n",
       "      <td>-117.71</td>\n",
       "      <td>34.09</td>\n",
       "      <td>36.0</td>\n",
       "      <td>2637.0</td>\n",
       "      <td>476.0</td>\n",
       "      <td>1385.0</td>\n",
       "      <td>483.0</td>\n",
       "      <td>4.1739</td>\n",
       "      <td>158700.0</td>\n",
       "    </tr>\n",
       "  </tbody>\n",
       "</table>\n",
       "<p>3137 rows × 9 columns</p>\n",
       "</div>"
      ],
      "text/plain": [
       "      longitude  latitude  housing_median_age  total_rooms  total_bedrooms  \\\n",
       "0       -120.09     37.02                 9.0       1608.0           297.0   \n",
       "1       -117.88     33.84                34.0       1410.0           214.0   \n",
       "2       -118.21     33.95                32.0       1116.0           328.0   \n",
       "3       -119.32     36.32                29.0       2409.0           436.0   \n",
       "4       -117.11     33.14                10.0       3208.0           636.0   \n",
       "...         ...       ...                 ...          ...             ...   \n",
       "3132    -119.02     36.07                29.0       2610.0           597.0   \n",
       "3133    -122.10     40.03                25.0       2516.0             NaN   \n",
       "3134    -118.04     34.00                30.0       5308.0           854.0   \n",
       "3135    -118.15     34.10                36.0       3514.0           818.0   \n",
       "3136    -117.71     34.09                36.0       2637.0           476.0   \n",
       "\n",
       "      population  households  median_income  median_house_value  \n",
       "0         1057.0       295.0         3.7143             81600.0  \n",
       "1          837.0       240.0         6.1168            213900.0  \n",
       "2         1265.0       302.0         2.2950            155200.0  \n",
       "3         1142.0       440.0         3.6895             87700.0  \n",
       "4         1395.0       582.0         3.4455            190500.0  \n",
       "...          ...         ...            ...                 ...  \n",
       "3132      1659.0       571.0         1.5911             60800.0  \n",
       "3133      1266.0       494.0         1.7566             58400.0  \n",
       "3134      2114.0       838.0         5.1985            279200.0  \n",
       "3135      2277.0       828.0         3.1211            229300.0  \n",
       "3136      1385.0       483.0         4.1739            158700.0  \n",
       "\n",
       "[3137 rows x 9 columns]"
      ]
     },
     "execution_count": 33,
     "metadata": {},
     "output_type": "execute_result"
    }
   ],
   "source": [
    "df_val "
   ]
  },
  {
   "cell_type": "markdown",
   "id": "492bf228",
   "metadata": {},
   "source": [
    "## Apply the log transformation to the median_house_value variable using the np.log1p() function."
   ]
  },
  {
   "cell_type": "code",
   "execution_count": 34,
   "id": "e21d960f",
   "metadata": {},
   "outputs": [],
   "source": [
    "y_train = np.log1p(df_train.median_house_value.values)\n",
    "y_val = np.log1p(df_val.median_house_value.values)\n",
    "y_test = np.log1p(df_test.median_house_value.values)"
   ]
  },
  {
   "cell_type": "code",
   "execution_count": 35,
   "id": "77d6a65d",
   "metadata": {},
   "outputs": [
    {
     "data": {
      "text/plain": [
       "array([11.90969286, 12.16733701, 12.39338589, ..., 12.3647886 ,\n",
       "       11.33141558, 12.50766132])"
      ]
     },
     "execution_count": 35,
     "metadata": {},
     "output_type": "execute_result"
    }
   ],
   "source": [
    "y_test"
   ]
  },
  {
   "cell_type": "code",
   "execution_count": 36,
   "id": "9570aa7e",
   "metadata": {},
   "outputs": [],
   "source": [
    "del df_train['median_house_value']\n",
    "del df_val['median_house_value']\n",
    "del df_test['median_house_value']"
   ]
  },
  {
   "cell_type": "code",
   "execution_count": 37,
   "id": "b628c466",
   "metadata": {},
   "outputs": [
    {
     "data": {
      "text/plain": [
       "6274"
      ]
     },
     "execution_count": 37,
     "metadata": {},
     "output_type": "execute_result"
    }
   ],
   "source": [
    "len(y_train)"
   ]
  },
  {
   "cell_type": "code",
   "execution_count": 243,
   "id": "f9c0481a",
   "metadata": {},
   "outputs": [],
   "source": [
    "def train_linear_regression(X,y ):\n",
    "    ones = np.ones(X.shape[0])\n",
    "    X = np.column_stack([ones, X])\n",
    "    XTX = X.T.dot(X)\n",
    "    XTX_inv = np.linalg.inv(XTX)\n",
    "    w_full = XTX_inv.dot(X.T).dot(y)\n",
    "    return w_full[0], w_full[1:]"
   ]
  },
  {
   "cell_type": "code",
   "execution_count": 59,
   "id": "06b1a241",
   "metadata": {},
   "outputs": [],
   "source": [
    "def rmse(y, y_pred):\n",
    "    se = (y-y_pred)**2\n",
    "    mse = se.mean()\n",
    "    return np.sqrt(mse)"
   ]
  },
  {
   "cell_type": "code",
   "execution_count": 48,
   "id": "ceeb0bff",
   "metadata": {},
   "outputs": [
    {
     "data": {
      "text/plain": [
       "longitude              0\n",
       "latitude               0\n",
       "housing_median_age     0\n",
       "total_rooms            0\n",
       "total_bedrooms        29\n",
       "population             0\n",
       "households             0\n",
       "median_income          0\n",
       "dtype: int64"
      ]
     },
     "execution_count": 48,
     "metadata": {},
     "output_type": "execute_result"
    }
   ],
   "source": [
    "df_val.isnull().sum()"
   ]
  },
  {
   "cell_type": "code",
   "execution_count": 180,
   "id": "f2680106",
   "metadata": {},
   "outputs": [],
   "source": [
    "#df_val.dtypes"
   ]
  },
  {
   "cell_type": "code",
   "execution_count": 91,
   "id": "f7611bd2",
   "metadata": {},
   "outputs": [],
   "source": [
    "bedrooms_mean = df_train.total_bedrooms.mean()"
   ]
  },
  {
   "cell_type": "code",
   "execution_count": 92,
   "id": "daec7f50",
   "metadata": {},
   "outputs": [],
   "source": [
    "df_train_0 =  df_train.copy()\n",
    "df_val_0 = df_val.copy()\n",
    "df_test_0 = df_test.copy()"
   ]
  },
  {
   "cell_type": "code",
   "execution_count": 157,
   "id": "515f5ad8",
   "metadata": {},
   "outputs": [],
   "source": [
    "df_train_0 = df_train_0.fillna(0)\n",
    "df_train_mean = df_train_0.fillna(bedrooms_mean)\n",
    "df_val_0 = df_val_0.fillna(0)\n",
    "df_val_mean  = df_val_0.fillna(bedrooms_mean)\n",
    "df_test_0 = df_test_0.fillna(0)\n",
    "df_test_mean =  df_test_mean.fillna(bedrooms_mean)"
   ]
  },
  {
   "cell_type": "code",
   "execution_count": 158,
   "id": "54ac85da",
   "metadata": {},
   "outputs": [],
   "source": [
    "def prepare_X_0(df):\n",
    "    df =  df.fillna(0)\n",
    "    X = df.values\n",
    "    return X"
   ]
  },
  {
   "cell_type": "code",
   "execution_count": 159,
   "id": "89d5dcac",
   "metadata": {},
   "outputs": [],
   "source": [
    "def prepare_X_mean(df):\n",
    "    df =  df.fillna(bedrooms_mean)\n",
    "    X = df.values\n",
    "    return X"
   ]
  },
  {
   "cell_type": "code",
   "execution_count": 160,
   "id": "a5d94300",
   "metadata": {},
   "outputs": [],
   "source": [
    "X_train_0 = prepare_X_0(df_train)"
   ]
  },
  {
   "cell_type": "code",
   "execution_count": 161,
   "id": "dbd2c4e3",
   "metadata": {},
   "outputs": [],
   "source": [
    "X_train_mean = prepare_X_mean(df_train)  "
   ]
  },
  {
   "cell_type": "code",
   "execution_count": 162,
   "id": "4f69c5bb",
   "metadata": {},
   "outputs": [],
   "source": [
    "w0, w = train_linear_regression(X_train_0, y_train)"
   ]
  },
  {
   "cell_type": "code",
   "execution_count": 163,
   "id": "2ae5a2a2",
   "metadata": {},
   "outputs": [],
   "source": [
    "X_val_0 = prepare_X_0(df_val)"
   ]
  },
  {
   "cell_type": "code",
   "execution_count": 164,
   "id": "74b44686",
   "metadata": {},
   "outputs": [],
   "source": [
    "y_pred_0  = w0 + X_val_0.dot(w) "
   ]
  },
  {
   "cell_type": "code",
   "execution_count": 172,
   "id": "f278fc6f",
   "metadata": {},
   "outputs": [
    {
     "data": {
      "text/plain": [
       "0.34"
      ]
     },
     "execution_count": 172,
     "metadata": {},
     "output_type": "execute_result"
    }
   ],
   "source": [
    "rmse_0 = rmse(y_val, y_pred_0)\n",
    "round(rmse_0, 2)"
   ]
  },
  {
   "cell_type": "code",
   "execution_count": 173,
   "id": "a3e33c1a",
   "metadata": {},
   "outputs": [
    {
     "data": {
      "text/plain": [
       "array([11.71037285, 12.46701156, 11.82939086, ..., 12.40999882,\n",
       "       12.03907284, 12.0623195 ])"
      ]
     },
     "execution_count": 173,
     "metadata": {},
     "output_type": "execute_result"
    }
   ],
   "source": [
    "y_pred_0"
   ]
  },
  {
   "cell_type": "code",
   "execution_count": 174,
   "id": "46fb8307",
   "metadata": {},
   "outputs": [],
   "source": [
    "w0_m, w_m = train_linear_regression(X_train_mean, y_train)"
   ]
  },
  {
   "cell_type": "code",
   "execution_count": 175,
   "id": "d3860666",
   "metadata": {},
   "outputs": [],
   "source": [
    "X_val_mean = prepare_X_mean(df_val)"
   ]
  },
  {
   "cell_type": "code",
   "execution_count": 176,
   "id": "2140d9b3",
   "metadata": {},
   "outputs": [],
   "source": [
    "y_pred_mean  = w0_m + X_val_mean.dot(w_m)"
   ]
  },
  {
   "cell_type": "code",
   "execution_count": 177,
   "id": "faa28056",
   "metadata": {},
   "outputs": [
    {
     "data": {
      "text/plain": [
       "0.34"
      ]
     },
     "execution_count": 177,
     "metadata": {},
     "output_type": "execute_result"
    }
   ],
   "source": [
    "rmse_mean = rmse(y_val, y_pred_mean)\n",
    "round(rmse_mean, 2)"
   ]
  },
  {
   "cell_type": "code",
   "execution_count": null,
   "id": "143b8484",
   "metadata": {},
   "outputs": [],
   "source": [
    " # q4 r = [0, 0.000001, 0.0001, 0.001, 0.01, 0.1, 1, 5, 10]"
   ]
  },
  {
   "cell_type": "code",
   "execution_count": 197,
   "id": "3b503147",
   "metadata": {},
   "outputs": [],
   "source": [
    "\n",
    "def train_linear_regression_reg(X, y, r=0.001   ):\n",
    "    ones  =  np.ones(X.shape[0])\n",
    "    X = np.column_stack([ones, X])\n",
    "    \n",
    "    XTX = X.T.dot(X)\n",
    "    XTX = XTX + r * np.eye(XTX.shape[0])\n",
    "    \n",
    "    XTX_inv  = np.linalg.inv(XTX)\n",
    "    w_full = XTX_inv.dot(X.T).dot(y)\n",
    "    \n",
    "    return w_full[0], w_full[1:]"
   ]
  },
  {
   "cell_type": "code",
   "execution_count": 198,
   "id": "0846ad44",
   "metadata": {},
   "outputs": [],
   "source": [
    "X_train  = prepare_X_0(df_train)"
   ]
  },
  {
   "cell_type": "code",
   "execution_count": 206,
   "id": "d54516c4",
   "metadata": {},
   "outputs": [
    {
     "name": "stdout",
     "output_type": "stream",
     "text": [
      "for r  0  rmse is:  0.34 , bias term is  -10.141048331540206\n",
      "for r  1e-06  rmse is:  0.34 , bias term is  -10.141016872331182\n",
      "for r  0.001  rmse is:  0.34 , bias term is  -10.109686499756227\n",
      "for r  0.0001  rmse is:  0.34 , bias term is  -10.137903397149769\n"
     ]
    }
   ],
   "source": [
    "#r_values  = [0, 0.000001, 0.0001, 0.001, 0.01, 0.1, 1, 5, 10]\n",
    "r_values  = [0, 0.000001, 0.001, 0.0001]\n",
    "for r in r_values:\n",
    "    w0,w = train_linear_regression_reg(X_train, y_train, r = r)\n",
    "    X_val = prepare_X_0(df_val)\n",
    "    y_pred = w0 + X_val.dot(w)\n",
    "    print(\"for r \", r , \" rmse is: \" , round( rmse(y_val, y_pred) , 2), \", bias term is \", w0 )"
   ]
  },
  {
   "cell_type": "code",
   "execution_count": 207,
   "id": "a02ca98b",
   "metadata": {},
   "outputs": [],
   "source": [
    "# 0.0001  rmse is:  0.3402355418"
   ]
  },
  {
   "cell_type": "code",
   "execution_count": 205,
   "id": "b97f6005",
   "metadata": {},
   "outputs": [
    {
     "name": "stdout",
     "output_type": "stream",
     "text": [
      "for r  0.0001  rmse is:  0.34 , bias term is  -10.137903397149769\n"
     ]
    }
   ],
   "source": [
    "r = 0.0001 \n",
    "w0,w = train_linear_regression_reg(X_train, y_train, r = r)\n",
    "X_val = prepare_X_0(df_val)\n",
    "y_pred = w0 + X_val.dot(w)\n",
    "print(\"for r \", r , \" rmse is: \" , round( rmse(y_val, y_pred) , 2), \", bias term is \", w0 )"
   ]
  },
  {
   "cell_type": "code",
   "execution_count": 208,
   "id": "c23a3f3a",
   "metadata": {},
   "outputs": [],
   "source": [
    "# q5"
   ]
  },
  {
   "cell_type": "code",
   "execution_count": 244,
   "id": "2e7a4ebb",
   "metadata": {},
   "outputs": [],
   "source": [
    "def train_linear_regression(X,y, r= 0.001):\n",
    "    ones = np.ones(X.shape[0])\n",
    "    X = np.column_stack([ones, X])\n",
    "    XTX = X.T.dot(X)\n",
    "    XTX_inv = np.linalg.inv(XTX)\n",
    "    w_full = XTX_inv.dot(X.T).dot(y)\n",
    "    return w_full[0], w_full[1:]"
   ]
  },
  {
   "cell_type": "code",
   "execution_count": 246,
   "id": "da862318",
   "metadata": {},
   "outputs": [
    {
     "name": "stdout",
     "output_type": "stream",
     "text": [
      "for seed = 0 the rmse = 0.3402352761597836\n",
      "for seed = 1 the rmse = 0.3402352761597836\n",
      "for seed = 2 the rmse = 0.3402352761597836\n",
      "for seed = 3 the rmse = 0.3402352761597836\n",
      "for seed = 4 the rmse = 0.3402352761597836\n",
      "for seed = 5 the rmse = 0.3402352761597836\n",
      "for seed = 6 the rmse = 0.3402352761597836\n",
      "for seed = 7 the rmse = 0.3402352761597836\n",
      "for seed = 8 the rmse = 0.3402352761597836\n",
      "for seed = 9 the rmse = 0.3402352761597836\n",
      "std is  5.551115123125783e-17\n"
     ]
    }
   ],
   "source": [
    "rmse_scores = []\n",
    "seeds = [0, 1, 2, 3, 4, 5, 6, 7, 8, 9]\n",
    "for i in seeds:\n",
    "    random.seed(i)\n",
    "    X_train_0 = prepare_X_0(df_train)\n",
    "    w0, w = train_linear_regression(X_train_0, y_train)\n",
    "    X_val_0 = prepare_X_0(df_val)\n",
    "    y_pred_0  = w0 + X_val_0.dot(w) \n",
    "    rmse_0 = rmse(y_val, y_pred_0)\n",
    "      \n",
    "    print(f\"for seed = {i} the rmse = { rmse_0}\")\n",
    "    \n",
    "    rmse_scores.append(rmse_0)\n",
    "    std =  np.std(np.array(rmse_scores))\n",
    "print(\"std is \" , std)"
   ]
  },
  {
   "cell_type": "code",
   "execution_count": 247,
   "id": "95849390",
   "metadata": {},
   "outputs": [],
   "source": [
    "# q6 "
   ]
  },
  {
   "cell_type": "code",
   "execution_count": 248,
   "id": "3152b970",
   "metadata": {},
   "outputs": [],
   "source": [
    "df_full_train = pd.concat([df_train, df_val])"
   ]
  },
  {
   "cell_type": "code",
   "execution_count": 249,
   "id": "8ee74624",
   "metadata": {},
   "outputs": [],
   "source": [
    "df_full_train = df_full_train.reset_index(drop = True)"
   ]
  },
  {
   "cell_type": "code",
   "execution_count": 250,
   "id": "97018330",
   "metadata": {},
   "outputs": [],
   "source": [
    "X_full_train = prepare_X_0(df_full_train)"
   ]
  },
  {
   "cell_type": "code",
   "execution_count": 251,
   "id": "1af62df7",
   "metadata": {},
   "outputs": [],
   "source": [
    "y_full_train = np.concatenate([y_train, y_val])"
   ]
  },
  {
   "cell_type": "code",
   "execution_count": 252,
   "id": "2d581c68",
   "metadata": {},
   "outputs": [],
   "source": [
    "w0, w = train_linear_regression(X_full_train, y_full_train, r = 0.001)"
   ]
  },
  {
   "cell_type": "code",
   "execution_count": 253,
   "id": "79955dd4",
   "metadata": {},
   "outputs": [
    {
     "data": {
      "text/plain": [
       "-10.327857359894415"
      ]
     },
     "execution_count": 253,
     "metadata": {},
     "output_type": "execute_result"
    }
   ],
   "source": [
    "w0"
   ]
  },
  {
   "cell_type": "code",
   "execution_count": 258,
   "id": "4eeaaf52",
   "metadata": {},
   "outputs": [
    {
     "data": {
      "text/plain": [
       "0.33"
      ]
     },
     "execution_count": 258,
     "metadata": {},
     "output_type": "execute_result"
    }
   ],
   "source": [
    "X_test = prepare_X_0(df_test)\n",
    "y_test_pred = w0 + X_test.dot(w)\n",
    "rmse_score = rmse(y_test_pred, y_test)\n",
    "round(rmse_score,2)"
   ]
  },
  {
   "cell_type": "code",
   "execution_count": null,
   "id": "72ec7772",
   "metadata": {},
   "outputs": [],
   "source": [
    "# Learning and sharing\n",
    "'''\n",
    "\n",
    "https://twitter.com/AniMkrtumyan2/status/1706417262754709684\n",
    "\n",
    "\n",
    "'''"
   ]
  }
 ],
 "metadata": {
  "kernelspec": {
   "display_name": "Python 3 (ipykernel)",
   "language": "python",
   "name": "python3"
  },
  "language_info": {
   "codemirror_mode": {
    "name": "ipython",
    "version": 3
   },
   "file_extension": ".py",
   "mimetype": "text/x-python",
   "name": "python",
   "nbconvert_exporter": "python",
   "pygments_lexer": "ipython3",
   "version": "3.9.12"
  },
  "toc": {
   "base_numbering": 1,
   "nav_menu": {},
   "number_sections": true,
   "sideBar": true,
   "skip_h1_title": false,
   "title_cell": "Table of Contents",
   "title_sidebar": "Contents",
   "toc_cell": false,
   "toc_position": {},
   "toc_section_display": true,
   "toc_window_display": false
  }
 },
 "nbformat": 4,
 "nbformat_minor": 5
}

{
 "cells": [
  {
   "cell_type": "markdown",
   "id": "a94435ab",
   "metadata": {},
   "source": [
    "# import libraries"
   ]
  },
  {
   "cell_type": "code",
   "execution_count": 244,
   "id": "8cd7934e",
   "metadata": {},
   "outputs": [],
   "source": [
    "import pandas as pd\n",
    "import numpy as np\n",
    "from matplotlib import pyplot as plt\n",
    "%matplotlib inline\n",
    "\n",
    "import seaborn as sns\n",
    "\n",
    "from sklearn.model_selection import train_test_split\n",
    "from sklearn.tree import DecisionTreeRegressor, export_text\n",
    "\n",
    "from sklearn.feature_extraction import DictVectorizer\n",
    "from sklearn.metrics import roc_auc_score\n",
    "from sklearn.tree import export_text\n",
    "\n",
    "from IPython.display import display\n",
    "from sklearn.ensemble import RandomForestRegressor\n",
    "from sklearn.metrics import mean_squared_error\n",
    "\n",
    "import xgboost as xgb"
   ]
  },
  {
   "cell_type": "markdown",
   "id": "b30e9b73",
   "metadata": {},
   "source": [
    "# preparing the dataset"
   ]
  },
  {
   "cell_type": "markdown",
   "id": "201d3c1b",
   "metadata": {},
   "source": [
    "The goal of this homework is to create a regression model for predicting housing prices (column 'median_house_value').\n",
    "\n",
    "Preparing the dataset\n",
    "For this homework, we only want to use a subset of data. This is the same subset we used in homework #2.\n",
    "But in contrast to homework #2, we are going to use all columns of the dataset.\n",
    "\n",
    "First, keep only the records where ocean_proximity is either '<1H OCEAN' or 'INLAND'\n",
    "\n",
    "Preparation:\n",
    "\n",
    "- Fill missing values with zeros.\n",
    "- Apply the log transform to median_house_value.\n",
    "- Do train/validation/test split with 60%/20%/20% distribution.\n",
    "- Use the train_test_split function and set the random_state parameter to 1.\n",
    "- Use DictVectorizer(sparse=True) to turn the dataframes into matrices."
   ]
  },
  {
   "cell_type": "code",
   "execution_count": 245,
   "id": "db6e0fc7",
   "metadata": {},
   "outputs": [],
   "source": [
    "data = pd.read_csv('housing.csv')\n",
    "df = data.copy()"
   ]
  },
  {
   "cell_type": "code",
   "execution_count": 246,
   "id": "79769044",
   "metadata": {},
   "outputs": [
    {
     "data": {
      "text/html": [
       "<div>\n",
       "<style scoped>\n",
       "    .dataframe tbody tr th:only-of-type {\n",
       "        vertical-align: middle;\n",
       "    }\n",
       "\n",
       "    .dataframe tbody tr th {\n",
       "        vertical-align: top;\n",
       "    }\n",
       "\n",
       "    .dataframe thead th {\n",
       "        text-align: right;\n",
       "    }\n",
       "</style>\n",
       "<table border=\"1\" class=\"dataframe\">\n",
       "  <thead>\n",
       "    <tr style=\"text-align: right;\">\n",
       "      <th></th>\n",
       "      <th>longitude</th>\n",
       "      <th>latitude</th>\n",
       "      <th>housing_median_age</th>\n",
       "      <th>total_rooms</th>\n",
       "      <th>total_bedrooms</th>\n",
       "      <th>population</th>\n",
       "      <th>households</th>\n",
       "      <th>median_income</th>\n",
       "      <th>median_house_value</th>\n",
       "      <th>ocean_proximity</th>\n",
       "    </tr>\n",
       "  </thead>\n",
       "  <tbody>\n",
       "    <tr>\n",
       "      <th>0</th>\n",
       "      <td>-122.23</td>\n",
       "      <td>37.88</td>\n",
       "      <td>41.0</td>\n",
       "      <td>880.0</td>\n",
       "      <td>129.0</td>\n",
       "      <td>322.0</td>\n",
       "      <td>126.0</td>\n",
       "      <td>8.3252</td>\n",
       "      <td>452600.0</td>\n",
       "      <td>NEAR BAY</td>\n",
       "    </tr>\n",
       "    <tr>\n",
       "      <th>1</th>\n",
       "      <td>-122.22</td>\n",
       "      <td>37.86</td>\n",
       "      <td>21.0</td>\n",
       "      <td>7099.0</td>\n",
       "      <td>1106.0</td>\n",
       "      <td>2401.0</td>\n",
       "      <td>1138.0</td>\n",
       "      <td>8.3014</td>\n",
       "      <td>358500.0</td>\n",
       "      <td>NEAR BAY</td>\n",
       "    </tr>\n",
       "    <tr>\n",
       "      <th>2</th>\n",
       "      <td>-122.24</td>\n",
       "      <td>37.85</td>\n",
       "      <td>52.0</td>\n",
       "      <td>1467.0</td>\n",
       "      <td>190.0</td>\n",
       "      <td>496.0</td>\n",
       "      <td>177.0</td>\n",
       "      <td>7.2574</td>\n",
       "      <td>352100.0</td>\n",
       "      <td>NEAR BAY</td>\n",
       "    </tr>\n",
       "    <tr>\n",
       "      <th>3</th>\n",
       "      <td>-122.25</td>\n",
       "      <td>37.85</td>\n",
       "      <td>52.0</td>\n",
       "      <td>1274.0</td>\n",
       "      <td>235.0</td>\n",
       "      <td>558.0</td>\n",
       "      <td>219.0</td>\n",
       "      <td>5.6431</td>\n",
       "      <td>341300.0</td>\n",
       "      <td>NEAR BAY</td>\n",
       "    </tr>\n",
       "    <tr>\n",
       "      <th>4</th>\n",
       "      <td>-122.25</td>\n",
       "      <td>37.85</td>\n",
       "      <td>52.0</td>\n",
       "      <td>1627.0</td>\n",
       "      <td>280.0</td>\n",
       "      <td>565.0</td>\n",
       "      <td>259.0</td>\n",
       "      <td>3.8462</td>\n",
       "      <td>342200.0</td>\n",
       "      <td>NEAR BAY</td>\n",
       "    </tr>\n",
       "  </tbody>\n",
       "</table>\n",
       "</div>"
      ],
      "text/plain": [
       "   longitude  latitude  housing_median_age  total_rooms  total_bedrooms  \\\n",
       "0    -122.23     37.88                41.0        880.0           129.0   \n",
       "1    -122.22     37.86                21.0       7099.0          1106.0   \n",
       "2    -122.24     37.85                52.0       1467.0           190.0   \n",
       "3    -122.25     37.85                52.0       1274.0           235.0   \n",
       "4    -122.25     37.85                52.0       1627.0           280.0   \n",
       "\n",
       "   population  households  median_income  median_house_value ocean_proximity  \n",
       "0       322.0       126.0         8.3252            452600.0        NEAR BAY  \n",
       "1      2401.0      1138.0         8.3014            358500.0        NEAR BAY  \n",
       "2       496.0       177.0         7.2574            352100.0        NEAR BAY  \n",
       "3       558.0       219.0         5.6431            341300.0        NEAR BAY  \n",
       "4       565.0       259.0         3.8462            342200.0        NEAR BAY  "
      ]
     },
     "execution_count": 246,
     "metadata": {},
     "output_type": "execute_result"
    }
   ],
   "source": [
    "df.head()"
   ]
  },
  {
   "cell_type": "code",
   "execution_count": 247,
   "id": "58ef083d",
   "metadata": {},
   "outputs": [
    {
     "data": {
      "text/plain": [
       "Index(['longitude', 'latitude', 'housing_median_age', 'total_rooms',\n",
       "       'total_bedrooms', 'population', 'households', 'median_income',\n",
       "       'median_house_value', 'ocean_proximity'],\n",
       "      dtype='object')"
      ]
     },
     "execution_count": 247,
     "metadata": {},
     "output_type": "execute_result"
    }
   ],
   "source": [
    "# First, keep only the records where ocean_proximity is either '<1H OCEAN' or 'INLAND'\n",
    "df.columns"
   ]
  },
  {
   "cell_type": "code",
   "execution_count": 248,
   "id": "eeaf0af3",
   "metadata": {},
   "outputs": [
    {
     "data": {
      "text/plain": [
       "<1H OCEAN     9136\n",
       "INLAND        6551\n",
       "NEAR OCEAN    2658\n",
       "NEAR BAY      2290\n",
       "ISLAND           5\n",
       "Name: ocean_proximity, dtype: int64"
      ]
     },
     "execution_count": 248,
     "metadata": {},
     "output_type": "execute_result"
    }
   ],
   "source": [
    "df.ocean_proximity.value_counts()"
   ]
  },
  {
   "cell_type": "code",
   "execution_count": 249,
   "id": "04a7b6d6",
   "metadata": {},
   "outputs": [
    {
     "data": {
      "text/plain": [
       "<1H OCEAN    9136\n",
       "INLAND       6551\n",
       "Name: ocean_proximity, dtype: int64"
      ]
     },
     "execution_count": 249,
     "metadata": {},
     "output_type": "execute_result"
    }
   ],
   "source": [
    "df= df[(df.ocean_proximity == '<1H OCEAN') | (df.ocean_proximity == 'INLAND' )]\n",
    "df.ocean_proximity.value_counts()"
   ]
  },
  {
   "cell_type": "code",
   "execution_count": 251,
   "id": "4955e841",
   "metadata": {},
   "outputs": [],
   "source": [
    "df['ocean_proximity'] =  df['ocean_proximity'].replace(\n",
    "    {'<1H OCEAN':\"h_ocean\",\"INLAND\":\"inland\" })\n"
   ]
  },
  {
   "cell_type": "code",
   "execution_count": 252,
   "id": "fd89d293",
   "metadata": {},
   "outputs": [
    {
     "data": {
      "text/plain": [
       "h_ocean    9136\n",
       "inland     6551\n",
       "Name: ocean_proximity, dtype: int64"
      ]
     },
     "execution_count": 252,
     "metadata": {},
     "output_type": "execute_result"
    }
   ],
   "source": [
    "df.ocean_proximity.value_counts()"
   ]
  },
  {
   "cell_type": "code",
   "execution_count": 253,
   "id": "19be5c3e",
   "metadata": {},
   "outputs": [
    {
     "name": "stdout",
     "output_type": "stream",
     "text": [
      "<class 'pandas.core.frame.DataFrame'>\n",
      "Int64Index: 15687 entries, 701 to 20639\n",
      "Data columns (total 10 columns):\n",
      " #   Column              Non-Null Count  Dtype  \n",
      "---  ------              --------------  -----  \n",
      " 0   longitude           15687 non-null  float64\n",
      " 1   latitude            15687 non-null  float64\n",
      " 2   housing_median_age  15687 non-null  float64\n",
      " 3   total_rooms         15687 non-null  float64\n",
      " 4   total_bedrooms      15530 non-null  float64\n",
      " 5   population          15687 non-null  float64\n",
      " 6   households          15687 non-null  float64\n",
      " 7   median_income       15687 non-null  float64\n",
      " 8   median_house_value  15687 non-null  float64\n",
      " 9   ocean_proximity     15687 non-null  object \n",
      "dtypes: float64(9), object(1)\n",
      "memory usage: 1.3+ MB\n"
     ]
    }
   ],
   "source": [
    "df.info()"
   ]
  },
  {
   "cell_type": "code",
   "execution_count": 254,
   "id": "bfc808b7",
   "metadata": {},
   "outputs": [],
   "source": [
    "df.total_bedrooms = df.total_bedrooms.fillna(0)"
   ]
  },
  {
   "cell_type": "code",
   "execution_count": 255,
   "id": "8994c946",
   "metadata": {},
   "outputs": [
    {
     "data": {
      "text/plain": [
       "longitude             0\n",
       "latitude              0\n",
       "housing_median_age    0\n",
       "total_rooms           0\n",
       "total_bedrooms        0\n",
       "population            0\n",
       "households            0\n",
       "median_income         0\n",
       "median_house_value    0\n",
       "ocean_proximity       0\n",
       "dtype: int64"
      ]
     },
     "execution_count": 255,
     "metadata": {},
     "output_type": "execute_result"
    }
   ],
   "source": [
    "df.isnull().sum()"
   ]
  },
  {
   "cell_type": "code",
   "execution_count": 256,
   "id": "6dd824fb",
   "metadata": {},
   "outputs": [
    {
     "data": {
      "text/plain": [
       "<AxesSubplot:>"
      ]
     },
     "execution_count": 256,
     "metadata": {},
     "output_type": "execute_result"
    },
    {
     "data": {
      "image/png": "[encoded data removed]",
      "text/plain": [
       "<Figure size 432x288 with 1 Axes>"
      ]
     },
     "metadata": {
      "needs_background": "light"
     },
     "output_type": "display_data"
    }
   ],
   "source": [
    "df.median_house_value = np.log1p(df.median_house_value)\n",
    "# target\n",
    "df.median_house_value.hist()"
   ]
  },
  {
   "cell_type": "code",
   "execution_count": 257,
   "id": "671c6a88",
   "metadata": {},
   "outputs": [
    {
     "data": {
      "text/plain": [
       "(15687, 10)"
      ]
     },
     "execution_count": 257,
     "metadata": {},
     "output_type": "execute_result"
    }
   ],
   "source": [
    "df.shape"
   ]
  },
  {
   "cell_type": "code",
   "execution_count": 258,
   "id": "1588b22e",
   "metadata": {},
   "outputs": [],
   "source": [
    "df_full_train, df_test = train_test_split(df,test_size=0.2, random_state=1)\n",
    "df_train, df_val = train_test_split(df_full_train,test_size=0.25, random_state=1)"
   ]
  },
  {
   "cell_type": "code",
   "execution_count": 259,
   "id": "f035d3a8",
   "metadata": {},
   "outputs": [],
   "source": [
    "df_train = df_train.reset_index(drop = True)\n",
    "df_test = df_test.reset_index(drop = True)\n",
    "df_val = df_val.reset_index(drop = True)"
   ]
  },
  {
   "cell_type": "code",
   "execution_count": 260,
   "id": "3d51426f",
   "metadata": {},
   "outputs": [],
   "source": [
    "y_train = df_train.median_house_value.values\n",
    "y_val = df_val.median_house_value.values\n",
    "y_test = df_test.median_house_value.values"
   ]
  },
  {
   "cell_type": "code",
   "execution_count": 261,
   "id": "10001492",
   "metadata": {},
   "outputs": [],
   "source": [
    "del df_train['median_house_value']\n",
    "del df_val['median_house_value']\n",
    "del df_test['median_house_value']"
   ]
  },
  {
   "cell_type": "code",
   "execution_count": 262,
   "id": "9db1b0c9",
   "metadata": {},
   "outputs": [
    {
     "data": {
      "text/plain": [
       "h_ocean    5487\n",
       "inland     3924\n",
       "Name: ocean_proximity, dtype: int64"
      ]
     },
     "execution_count": 262,
     "metadata": {},
     "output_type": "execute_result"
    }
   ],
   "source": [
    "df_train.ocean_proximity.value_counts()"
   ]
  },
  {
   "cell_type": "code",
   "execution_count": null,
   "id": "9c0882a7",
   "metadata": {},
   "outputs": [],
   "source": [
    "\n"
   ]
  },
  {
   "cell_type": "code",
   "execution_count": 263,
   "id": "c6ef93ed",
   "metadata": {},
   "outputs": [
    {
     "name": "stderr",
     "output_type": "stream",
     "text": [
      "C:\\anaconda3\\lib\\site-packages\\sklearn\\utils\\deprecation.py:87: FutureWarning: Function get_feature_names is deprecated; get_feature_names is deprecated in 1.0 and will be removed in 1.2. Please use get_feature_names_out instead.\n",
      "  warnings.warn(msg, category=FutureWarning)\n"
     ]
    },
    {
     "data": {
      "text/plain": [
       "['households',\n",
       " 'housing_median_age',\n",
       " 'latitude',\n",
       " 'longitude',\n",
       " 'median_income',\n",
       " 'ocean_proximity=h_ocean',\n",
       " 'ocean_proximity=inland',\n",
       " 'population',\n",
       " 'total_bedrooms',\n",
       " 'total_rooms']"
      ]
     },
     "execution_count": 263,
     "metadata": {},
     "output_type": "execute_result"
    }
   ],
   "source": [
    "train_dicts = df_train.fillna(0).to_dict(orient = \"records\")\n",
    "dv=  DictVectorizer(sparse = False)\n",
    "\n",
    "X_train = dv.fit_transform(train_dicts)\n",
    "dv.get_feature_names()"
   ]
  },
  {
   "cell_type": "code",
   "execution_count": 264,
   "id": "ab2ec75b",
   "metadata": {},
   "outputs": [],
   "source": [
    "dv = DictVectorizer(sparse = False)\n",
    "\n",
    "train_dict = df_train.to_dict(orient = 'records')\n",
    "X_train = dv.fit_transform(train_dict)\n",
    "\n",
    "val_dict = df_val.to_dict(orient = 'records')\n",
    "X_val = dv.transform(val_dict)"
   ]
  },
  {
   "cell_type": "markdown",
   "id": "f783a082",
   "metadata": {},
   "source": [
    "# Q1 DecisionTreeRegressor\n",
    " "
   ]
  },
  {
   "cell_type": "code",
   "execution_count": 265,
   "id": "34a57ab8",
   "metadata": {},
   "outputs": [],
   "source": [
    "# Let's train a decision tree regressor to predict the\n",
    "# median_house_value variable.\n",
    "\n",
    "#Train a model with max_depth=1"
   ]
  },
  {
   "cell_type": "code",
   "execution_count": 266,
   "id": "626c70f3",
   "metadata": {},
   "outputs": [
    {
     "data": {
      "text/plain": [
       "DecisionTreeRegressor(max_depth=1)"
      ]
     },
     "execution_count": 266,
     "metadata": {},
     "output_type": "execute_result"
    }
   ],
   "source": [
    "dt = DecisionTreeRegressor(max_depth = 1)\n",
    "dt.fit(X_train, y_train)"
   ]
  },
  {
   "cell_type": "code",
   "execution_count": 267,
   "id": "b71d6524",
   "metadata": {},
   "outputs": [
    {
     "name": "stdout",
     "output_type": "stream",
     "text": [
      "|--- ocean_proximity=h_ocean <= 0.50\n",
      "|   |--- value: [11.61]\n",
      "|--- ocean_proximity=h_ocean >  0.50\n",
      "|   |--- value: [12.30]\n",
      "\n"
     ]
    },
    {
     "name": "stderr",
     "output_type": "stream",
     "text": [
      "C:\\anaconda3\\lib\\site-packages\\sklearn\\utils\\deprecation.py:87: FutureWarning: Function get_feature_names is deprecated; get_feature_names is deprecated in 1.0 and will be removed in 1.2. Please use get_feature_names_out instead.\n",
      "  warnings.warn(msg, category=FutureWarning)\n"
     ]
    }
   ],
   "source": [
    " print(export_text(dt, feature_names = dv.get_feature_names()))"
   ]
  },
  {
   "cell_type": "markdown",
   "id": "1018ec65",
   "metadata": {},
   "source": [
    "Which feature is used for splitting the data?\n",
    "\n",
    "- ocean_proximity\n",
    "- total_rooms\n",
    "- latitude\n",
    "- population\n",
    "The answer is ocean_proximity"
   ]
  },
  {
   "cell_type": "markdown",
   "id": "b974f1fd",
   "metadata": {},
   "source": [
    "# Q2 random forest"
   ]
  },
  {
   "cell_type": "code",
   "execution_count": 268,
   "id": "61387130",
   "metadata": {},
   "outputs": [
    {
     "data": {
      "text/plain": [
       "\"\\nTrain a random forest model with these parameters:\\n\\nn_estimators=10\\nrandom_state=1\\nn_jobs=-1 (optional - to make training faster)\\nWhat's the RMSE of this model on validation?\\n\\n0.045\\n0.245\\n0.545\\n0.845\\n\\n\""
      ]
     },
     "execution_count": 268,
     "metadata": {},
     "output_type": "execute_result"
    }
   ],
   "source": [
    "\"\"\"\n",
    "Train a random forest model with these parameters:\n",
    "\n",
    "n_estimators=10\n",
    "random_state=1\n",
    "n_jobs=-1 (optional - to make training faster)\n",
    "What's the RMSE of this model on validation?\n",
    "\n",
    "0.045\n",
    "0.245\n",
    "0.545\n",
    "0.845\n",
    "\n",
    "\"\"\""
   ]
  },
  {
   "cell_type": "code",
   "execution_count": 269,
   "id": "27c37fa0",
   "metadata": {},
   "outputs": [
    {
     "data": {
      "text/plain": [
       "RandomForestRegressor(n_estimators=10, n_jobs=-1, random_state=1)"
      ]
     },
     "execution_count": 269,
     "metadata": {},
     "output_type": "execute_result"
    }
   ],
   "source": [
    "rf = RandomForestRegressor(n_estimators=10, random_state=1, n_jobs=-1 )\n",
    "rf.fit(X_train, y_train)"
   ]
  },
  {
   "cell_type": "code",
   "execution_count": 270,
   "id": "27c58c1f",
   "metadata": {},
   "outputs": [
    {
     "name": "stdout",
     "output_type": "stream",
     "text": [
      "rmse:  0.245\n"
     ]
    }
   ],
   "source": [
    "y_pred_rf = rf.predict(X_val)\n",
    "rmse = np.sqrt(mean_squared_error(y_val, y_pred_rf)) \n",
    "print(\"rmse: \",rmse.round(3))\n",
    "#the answer is rmse =  0.245 "
   ]
  },
  {
   "cell_type": "markdown",
   "id": "77dd1a91",
   "metadata": {},
   "source": [
    "# Q3 n_estimators of Random Forest Regressor"
   ]
  },
  {
   "cell_type": "code",
   "execution_count": 271,
   "id": "5434a53a",
   "metadata": {},
   "outputs": [
    {
     "data": {
      "text/plain": [
       "'\\nTry different values of this parameter from 10 to 200 with step 10.\\nSet random_state to 1.\\nEvaluate the model on the validation dataset.\\nAfter which value of n_estimators does RMSE stop improving? Consider 3 decimal places for retrieving the answer.\\n\\n10\\n25\\n50\\n160\\n\\n'"
      ]
     },
     "execution_count": 271,
     "metadata": {},
     "output_type": "execute_result"
    }
   ],
   "source": [
    "'''\n",
    "Try different values of this parameter from 10 to 200 with step 10.\n",
    "Set random_state to 1.\n",
    "Evaluate the model on the validation dataset.\n",
    "After which value of n_estimators does RMSE stop improving? Consider 3 decimal places for retrieving the answer.\n",
    "\n",
    "10\n",
    "25\n",
    "50\n",
    "160\n",
    "\n",
    "'''"
   ]
  },
  {
   "cell_type": "code",
   "execution_count": 272,
   "id": "53f4d0fc",
   "metadata": {},
   "outputs": [
    {
     "data": {
      "text/plain": [
       "[<matplotlib.lines.Line2D at 0x19b8739c190>]"
      ]
     },
     "execution_count": 272,
     "metadata": {},
     "output_type": "execute_result"
    },
    {
     "data": {
      "image/png": "[encoded data removed]",
      "text/plain": [
       "<Figure size 432x288 with 1 Axes>"
      ]
     },
     "metadata": {
      "needs_background": "light"
     },
     "output_type": "display_data"
    }
   ],
   "source": [
    "rmse_scores = []\n",
    "\n",
    "for n in range(10, 201, 10):\n",
    "    rf = RandomForestRegressor(n_estimators=n, random_state=1, n_jobs=-1)\n",
    "    rf.fit(X_train, y_train)\n",
    "\n",
    "    y_pred = rf.predict(X_val)\n",
    "    rmse = mean_squared_error(y_val, y_pred, squared=False)\n",
    "    \n",
    "    rmse_scores.append((n, rmse))\n",
    "\n",
    "columns = ['n_estimators', 'rmse']\n",
    "df_scores = pd.DataFrame(rmse_scores, columns=columns)\n",
    "plt.plot(df_scores.n_estimators, df_scores.rmse)\n",
    "\n",
    "# based on the plot I would choose 160."
   ]
  },
  {
   "cell_type": "markdown",
   "id": "fee6f9a5",
   "metadata": {},
   "source": [
    "# Q 4  select the best max_depth:"
   ]
  },
  {
   "cell_type": "markdown",
   "id": "2208498b",
   "metadata": {},
   "source": [
    "Try different values of max_depth: [10, 15, 20, 25]\n",
    "For each of these values,\n",
    "try different values of n_estimators from 10 till 200 (with step 10)\n",
    "calculate the mean RMSE\n",
    "Fix the random seed: random_state=1\n",
    "What's the best max_depth, using the mean RMSE?\n",
    "\n",
    "10\n",
    "15\n",
    "20\n",
    "25"
   ]
  },
  {
   "cell_type": "code",
   "execution_count": 275,
   "id": "b06dcf49",
   "metadata": {},
   "outputs": [],
   "source": [
    "rmse_scores = []\n",
    "\n",
    "for d in [10, 15, 20, 25]:\n",
    "    for n in range(10, 201, 10):\n",
    "        rf = RandomForestRegressor(max_depth=d,\n",
    "                                   n_estimators=n,\n",
    "                                   random_state=1, \n",
    "                                   n_jobs=-1)\n",
    "        rf.fit(X_train, y_train)\n",
    "\n",
    "        y_pred = rf.predict(X_val)\n",
    "        rmse = mean_squared_error(y_val, y_pred, squared=False)\n",
    "\n",
    "        rmse_scores.append((d, n, rmse))\n",
    "\n",
    "columns = ['max_depth', 'n_estimators', 'rmse']\n",
    "df_scores = pd.DataFrame(rmse_scores, columns=columns)"
   ]
  },
  {
   "cell_type": "code",
   "execution_count": 276,
   "id": "8cc87d08",
   "metadata": {},
   "outputs": [
    {
     "data": {
      "text/plain": [
       "<matplotlib.legend.Legend at 0x19b9bb1e400>"
      ]
     },
     "execution_count": 276,
     "metadata": {},
     "output_type": "execute_result"
    },
    {
     "data": {
      "image/png": "[encoded data removed]",
      "text/plain": [
       "<Figure size 432x288 with 1 Axes>"
      ]
     },
     "metadata": {
      "needs_background": "light"
     },
     "output_type": "display_data"
    }
   ],
   "source": [
    "for d in [10, 15, 20, 25]:\n",
    "    df_subset = df_scores[df_scores.max_depth == d]\n",
    "    \n",
    "    plt.plot(df_subset.n_estimators, df_subset.rmse,\n",
    "             label = 'max_depth=%d' % d)\n",
    "\n",
    "plt.ylim(0.22, 0.236)\n",
    "\n",
    "plt.legend()\n",
    "# max_dept= 25 has the lowest rmse, so this is a good parameter"
   ]
  },
  {
   "cell_type": "markdown",
   "id": "589b02b6",
   "metadata": {},
   "source": [
    "# Q5  feature importance information"
   ]
  },
  {
   "cell_type": "markdown",
   "id": "0380932a",
   "metadata": {},
   "source": [
    "For this homework question, we'll find the most important feature:\n",
    "\n",
    "Train the model with these parameters:\n",
    "n_estimators=10,\n",
    "max_depth=20,\n",
    "random_state=1,\n",
    "n_jobs=-1 (optional)\n",
    "Get the feature importance information from this model\n",
    "What's the most important feature (among these 4)?\n",
    "\n",
    "total_rooms\n",
    "median_income\n",
    "total_bedrooms\n",
    "longitude"
   ]
  },
  {
   "cell_type": "code",
   "execution_count": 277,
   "id": "ca24e91c",
   "metadata": {},
   "outputs": [
    {
     "name": "stderr",
     "output_type": "stream",
     "text": [
      "C:\\anaconda3\\lib\\site-packages\\sklearn\\utils\\deprecation.py:87: FutureWarning: Function get_feature_names is deprecated; get_feature_names is deprecated in 1.0 and will be removed in 1.2. Please use get_feature_names_out instead.\n",
      "  warnings.warn(msg, category=FutureWarning)\n"
     ]
    },
    {
     "data": {
      "text/plain": [
       "<BarContainer object of 10 artists>"
      ]
     },
     "execution_count": 277,
     "metadata": {},
     "output_type": "execute_result"
    },
    {
     "data": {
      "image/png": "[encoded data removed]",
      "text/plain": [
       "<Figure size 432x288 with 1 Axes>"
      ]
     },
     "metadata": {
      "needs_background": "light"
     },
     "output_type": "display_data"
    }
   ],
   "source": [
    "rf = RandomForestRegressor(n_estimators=10, max_depth=20,\n",
    "                           random_state=1, n_jobs=-1)\n",
    "rf.fit(X_train, y_train)\n",
    "plt.barh(dv.get_feature_names(), rf.feature_importances_)"
   ]
  },
  {
   "cell_type": "code",
   "execution_count": null,
   "id": "88933135",
   "metadata": {},
   "outputs": [],
   "source": [
    "# so, the most important feature is median_income"
   ]
  },
  {
   "cell_type": "markdown",
   "id": "b20dedbd",
   "metadata": {},
   "source": [
    "# Q6 XGBoost "
   ]
  },
  {
   "cell_type": "markdown",
   "id": "88e730f8",
   "metadata": {},
   "source": [
    "Now let's train an XGBoost model! For this question, we'll tune the eta parameter:\n",
    "\n",
    "Install XGBoost\n",
    "Create DMatrix for train and validation\n",
    "Create a watchlist\n",
    "Train a model with these parameters for 100 rounds:\n",
    "xgb_params = {\n",
    "    'eta': 0.3, \n",
    "    'max_depth': 6,\n",
    "    'min_child_weight': 1,\n",
    "    \n",
    "    'objective': 'reg:squarederror',\n",
    "    'nthread': 8,\n",
    "    \n",
    "    'seed': 1,\n",
    "    'verbosity': 1,\n",
    "}\n",
    "Now change eta from 0.3 to 0.1.\n",
    "\n",
    "Which eta leads to the best RMSE score on the validation dataset?\n",
    "\n",
    "0.3\n",
    "0.1\n",
    "Both give equal value"
   ]
  },
  {
   "cell_type": "code",
   "execution_count": 278,
   "id": "d2d35351",
   "metadata": {},
   "outputs": [
    {
     "name": "stderr",
     "output_type": "stream",
     "text": [
      "C:\\anaconda3\\lib\\site-packages\\sklearn\\utils\\deprecation.py:87: FutureWarning: Function get_feature_names is deprecated; get_feature_names is deprecated in 1.0 and will be removed in 1.2. Please use get_feature_names_out instead.\n",
      "  warnings.warn(msg, category=FutureWarning)\n"
     ]
    },
    {
     "data": {
      "text/plain": [
       "['households',\n",
       " 'housing_median_age',\n",
       " 'latitude',\n",
       " 'longitude',\n",
       " 'median_income',\n",
       " 'ocean_proximity=h_ocean',\n",
       " 'ocean_proximity=inland',\n",
       " 'population',\n",
       " 'total_bedrooms',\n",
       " 'total_rooms']"
      ]
     },
     "execution_count": 278,
     "metadata": {},
     "output_type": "execute_result"
    }
   ],
   "source": [
    "features = dv.get_feature_names()\n",
    "features"
   ]
  },
  {
   "cell_type": "code",
   "execution_count": 279,
   "id": "774f29ea",
   "metadata": {},
   "outputs": [],
   "source": [
    "def parse_xgb_output(output):\n",
    "    results = []\n",
    "\n",
    "    for line in output.strip().split('\\n'):\n",
    "        it_line, train_line, val_line = line.split('\\t')\n",
    "\n",
    "        it = int(it_line.strip('[]'))\n",
    "        train = float(train_line.split(':')[1])\n",
    "        val = float(val_line.split(':')[1])\n",
    "\n",
    "        results.append((it, train, val))\n",
    "    \n",
    "    columns = ['num_iter', 'train_rmse', 'val_rmse']\n",
    "    df_results = pd.DataFrame(results, columns=columns)\n",
    "    return df_results"
   ]
  },
  {
   "cell_type": "code",
   "execution_count": 280,
   "id": "122cfa20",
   "metadata": {},
   "outputs": [],
   "source": [
    "dtrain = xgb.DMatrix(X_train, label=y_train, feature_names=features)\n",
    "dval = xgb.DMatrix(X_val, label=y_val, feature_names=features)"
   ]
  },
  {
   "cell_type": "code",
   "execution_count": 283,
   "id": "1fcd87ba",
   "metadata": {},
   "outputs": [],
   "source": [
    "scores ={}"
   ]
  },
  {
   "cell_type": "code",
   "execution_count": 287,
   "id": "bd4c180d",
   "metadata": {},
   "outputs": [],
   "source": [
    "features = dv.get_feature_names()\n",
    "dtrain = xgb.DMatrix(X_train, label=y_train, feature_names=features)\n",
    "dval = xgb.DMatrix(X_val, label=y_val, feature_names=features)\n",
    "\n",
    "watchlist = [(dtrain, 'train'), (dval, 'val')]\n",
    "\n",
    "xgb_params = {\n",
    "    'eta': 0.3, \n",
    "    'max_depth': 6,\n",
    "    'min_child_weight': 1,\n",
    "    \n",
    "    'objective': 'reg:squarederror',\n",
    "    'nthread': 8,\n",
    "    \n",
    "    'seed': 1,\n",
    "    'verbosity': 1,\n",
    "}\n",
    "model  = xgb.train(xgb_params, dtrain, num_boost_round = 100)"
   ]
  },
  {
   "cell_type": "code",
   "execution_count": 288,
   "id": "40a51e63",
   "metadata": {},
   "outputs": [],
   "source": [
    "%%capture output_eta_03\n",
    " \n",
    "xgb_params['eta'] = 0.3\n",
    "xgb.train(xgb_params, dtrain, num_boost_round=100,\n",
    "          verbose_eval=5, evals=watchlist)"
   ]
  },
  {
   "cell_type": "code",
   "execution_count": 289,
   "id": "6cde7fa0",
   "metadata": {},
   "outputs": [],
   "source": [
    "%%capture output_eta_01\n",
    " \n",
    "xgb_params['eta'] = 0.1\n",
    "xgb.train(xgb_params, dtrain, num_boost_round=100,\n",
    "          verbose_eval=5, evals=watchlist)\n"
   ]
  },
  {
   "cell_type": "code",
   "execution_count": 290,
   "id": "74c8aa8a",
   "metadata": {},
   "outputs": [
    {
     "data": {
      "text/plain": [
       "<matplotlib.legend.Legend at 0x19b8544a5b0>"
      ]
     },
     "execution_count": 290,
     "metadata": {},
     "output_type": "execute_result"
    },
    {
     "data": {
      "image/png": "[encoded data removed]",
      "text/plain": [
       "<Figure size 432x288 with 1 Axes>"
      ]
     },
     "metadata": {
      "needs_background": "light"
     },
     "output_type": "display_data"
    }
   ],
   "source": [
    "df_score_eta_03 = parse_xgb_output(output_eta_03.stdout)\n",
    "plt.plot(df_score_eta_03.num_iter, df_score_eta_03.train_rmse, label='train')\n",
    "plt.plot(df_score_eta_03.num_iter, df_score_eta_03.val_rmse, label='val')\n",
    "plt.ylim(0.3, 0.5)\n",
    "plt.legend()"
   ]
  },
  {
   "cell_type": "code",
   "execution_count": 296,
   "id": "7ad02a2f",
   "metadata": {},
   "outputs": [
    {
     "data": {
      "text/html": [
       "<div>\n",
       "<style scoped>\n",
       "    .dataframe tbody tr th:only-of-type {\n",
       "        vertical-align: middle;\n",
       "    }\n",
       "\n",
       "    .dataframe tbody tr th {\n",
       "        vertical-align: top;\n",
       "    }\n",
       "\n",
       "    .dataframe thead th {\n",
       "        text-align: right;\n",
       "    }\n",
       "</style>\n",
       "<table border=\"1\" class=\"dataframe\">\n",
       "  <thead>\n",
       "    <tr style=\"text-align: right;\">\n",
       "      <th></th>\n",
       "      <th>num_iter</th>\n",
       "      <th>train_rmse</th>\n",
       "      <th>val_rmse</th>\n",
       "    </tr>\n",
       "  </thead>\n",
       "  <tbody>\n",
       "    <tr>\n",
       "      <th>16</th>\n",
       "      <td>80</td>\n",
       "      <td>0.12835</td>\n",
       "      <td>0.23045</td>\n",
       "    </tr>\n",
       "    <tr>\n",
       "      <th>17</th>\n",
       "      <td>85</td>\n",
       "      <td>0.12534</td>\n",
       "      <td>0.23010</td>\n",
       "    </tr>\n",
       "    <tr>\n",
       "      <th>18</th>\n",
       "      <td>90</td>\n",
       "      <td>0.12174</td>\n",
       "      <td>0.22957</td>\n",
       "    </tr>\n",
       "    <tr>\n",
       "      <th>19</th>\n",
       "      <td>95</td>\n",
       "      <td>0.11894</td>\n",
       "      <td>0.22906</td>\n",
       "    </tr>\n",
       "    <tr>\n",
       "      <th>20</th>\n",
       "      <td>99</td>\n",
       "      <td>0.11656</td>\n",
       "      <td>0.22897</td>\n",
       "    </tr>\n",
       "  </tbody>\n",
       "</table>\n",
       "</div>"
      ],
      "text/plain": [
       "    num_iter  train_rmse  val_rmse\n",
       "16        80     0.12835   0.23045\n",
       "17        85     0.12534   0.23010\n",
       "18        90     0.12174   0.22957\n",
       "19        95     0.11894   0.22906\n",
       "20        99     0.11656   0.22897"
      ]
     },
     "execution_count": 296,
     "metadata": {},
     "output_type": "execute_result"
    }
   ],
   "source": [
    "df_score_eta_03.tail()"
   ]
  },
  {
   "cell_type": "code",
   "execution_count": 295,
   "id": "44d16d17",
   "metadata": {},
   "outputs": [
    {
     "data": {
      "text/html": [
       "<div>\n",
       "<style scoped>\n",
       "    .dataframe tbody tr th:only-of-type {\n",
       "        vertical-align: middle;\n",
       "    }\n",
       "\n",
       "    .dataframe tbody tr th {\n",
       "        vertical-align: top;\n",
       "    }\n",
       "\n",
       "    .dataframe thead th {\n",
       "        text-align: right;\n",
       "    }\n",
       "</style>\n",
       "<table border=\"1\" class=\"dataframe\">\n",
       "  <thead>\n",
       "    <tr style=\"text-align: right;\">\n",
       "      <th></th>\n",
       "      <th>num_iter</th>\n",
       "      <th>train_rmse</th>\n",
       "      <th>val_rmse</th>\n",
       "    </tr>\n",
       "  </thead>\n",
       "  <tbody>\n",
       "    <tr>\n",
       "      <th>16</th>\n",
       "      <td>80</td>\n",
       "      <td>0.18145</td>\n",
       "      <td>0.23594</td>\n",
       "    </tr>\n",
       "    <tr>\n",
       "      <th>17</th>\n",
       "      <td>85</td>\n",
       "      <td>0.17807</td>\n",
       "      <td>0.23475</td>\n",
       "    </tr>\n",
       "    <tr>\n",
       "      <th>18</th>\n",
       "      <td>90</td>\n",
       "      <td>0.17418</td>\n",
       "      <td>0.23307</td>\n",
       "    </tr>\n",
       "    <tr>\n",
       "      <th>19</th>\n",
       "      <td>95</td>\n",
       "      <td>0.17149</td>\n",
       "      <td>0.23258</td>\n",
       "    </tr>\n",
       "    <tr>\n",
       "      <th>20</th>\n",
       "      <td>99</td>\n",
       "      <td>0.17000</td>\n",
       "      <td>0.23234</td>\n",
       "    </tr>\n",
       "  </tbody>\n",
       "</table>\n",
       "</div>"
      ],
      "text/plain": [
       "    num_iter  train_rmse  val_rmse\n",
       "16        80     0.18145   0.23594\n",
       "17        85     0.17807   0.23475\n",
       "18        90     0.17418   0.23307\n",
       "19        95     0.17149   0.23258\n",
       "20        99     0.17000   0.23234"
      ]
     },
     "execution_count": 295,
     "metadata": {},
     "output_type": "execute_result"
    }
   ],
   "source": [
    "df_score_eta_01.tail()"
   ]
  },
  {
   "cell_type": "code",
   "execution_count": 291,
   "id": "008ada5f",
   "metadata": {},
   "outputs": [
    {
     "data": {
      "text/plain": [
       "<matplotlib.legend.Legend at 0x19b8548c790>"
      ]
     },
     "execution_count": 291,
     "metadata": {},
     "output_type": "execute_result"
    },
    {
     "data": {
      "image/png": "[encoded data removed]",
      "text/plain": [
       "<Figure size 432x288 with 1 Axes>"
      ]
     },
     "metadata": {
      "needs_background": "light"
     },
     "output_type": "display_data"
    }
   ],
   "source": [
    "df_score_eta_01 = parse_xgb_output(output_eta_01.stdout)\n",
    "plt.plot(df_score_eta_01.num_iter, df_score_eta_01.train_rmse, label='train')\n",
    "plt.plot(df_score_eta_01.num_iter, df_score_eta_01.val_rmse, label='val')\n",
    "plt.ylim(0.3, 0.5)\n",
    "plt.legend()"
   ]
  },
  {
   "cell_type": "code",
   "execution_count": 297,
   "id": "276000b7",
   "metadata": {},
   "outputs": [
    {
     "data": {
      "text/plain": [
       "array([12.136063, 12.115129, 11.55087 , ..., 11.960862, 11.147743,\n",
       "       11.804589], dtype=float32)"
      ]
     },
     "execution_count": 297,
     "metadata": {},
     "output_type": "execute_result"
    }
   ],
   "source": [
    "y_pred  = model.predict(dval)\n",
    "y_pred "
   ]
  },
  {
   "cell_type": "code",
   "execution_count": null,
   "id": "dfea7193",
   "metadata": {},
   "outputs": [],
   "source": []
  }
 ],
 "metadata": {
  "kernelspec": {
   "display_name": "Python 3 (ipykernel)",
   "language": "python",
   "name": "python3"
  },
  "language_info": {
   "codemirror_mode": {
    "name": "ipython",
    "version": 3
   },
   "file_extension": ".py",
   "mimetype": "text/x-python",
   "name": "python",
   "nbconvert_exporter": "python",
   "pygments_lexer": "ipython3",
   "version": "3.9.12"
  },
  "toc": {
   "base_numbering": 1,
   "nav_menu": {},
   "number_sections": true,
   "sideBar": true,
   "skip_h1_title": false,
   "title_cell": "Table of Contents",
   "title_sidebar": "Contents",
   "toc_cell": false,
   "toc_position": {},
   "toc_section_display": true,
   "toc_window_display": true
  }
 },
 "nbformat": 4,
 "nbformat_minor": 5
}
